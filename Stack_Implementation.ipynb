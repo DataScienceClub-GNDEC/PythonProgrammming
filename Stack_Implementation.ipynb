{
  "nbformat": 4,
  "nbformat_minor": 0,
  "metadata": {
    "colab": {
      "name": "Stack Implementation.ipynb",
      "provenance": [],
      "collapsed_sections": [],
      "authorship_tag": "ABX9TyOsMPY4BvfnlGs9kx+44s0P"
    },
    "kernelspec": {
      "name": "python3",
      "display_name": "Python 3"
    },
    "language_info": {
      "name": "python"
    }
  },
  "cells": [
    {
      "cell_type": "code",
      "metadata": {
        "colab": {
          "base_uri": "https://localhost:8080/"
        },
        "id": "EYuf1FaDvAHM",
        "outputId": "abdae8ae-5f9f-477b-d328-8063b502288f"
      },
      "source": [
        "class Stack:\n",
        "\n",
        "  def __init__(self):\n",
        "    self.stack = []\n",
        "\n",
        "  # add element on to the stack\n",
        "  def add(self,value):\n",
        "    if len(self.stack) > 10:\n",
        "      print(\"Stack overflow\")\n",
        "    else:\n",
        "      if value not in self.stack:\n",
        "        self.stack.append(value)\n",
        "        print(\"Value added successfully!\")\n",
        "      else:\n",
        "        print(\"Value already present in stack\")\n",
        "\n",
        "  # get top element of stack\n",
        "  def peek(self):\n",
        "    return self.stack[-1]\n",
        "\n",
        "  # delete element from top of the stack\n",
        "  def delete(self):\n",
        "    if len(self.stack) <= 0:\n",
        "      print(\"Stack underflow\")\n",
        "    else:\n",
        "      return self.stack.pop()\n",
        "\n",
        "  # check if stack is empty or not\n",
        "  def empty(self):\n",
        "    if len(self.stack) <= 0:\n",
        "      print(\"Stack is empty\")\n",
        "  \n",
        "  # display all elements of stack\n",
        "  def display(self):\n",
        "    print(\"Elements are:\" , end = ' ')\n",
        "    for i in self.stack:\n",
        "      print(i , end = ' ')\n",
        "\n",
        "s = Stack()\n",
        "\n",
        "s.empty()     # tells stack is empty\n",
        "print(\"------------------------------------------------------------\")\n",
        "\n",
        "s.delete()    # tells stack is underflow\n",
        "print(\"------------------------------------------------------------\")\n",
        "\n",
        "s.add(10)     # add element on to stack\n",
        "s.add(20)\n",
        "s.add(30)\n",
        "s.add(40)\n",
        "s.add(50)\n",
        "s.add(60)\n",
        "s.add(70)\n",
        "s.add(80)\n",
        "s.add(90)\n",
        "s.add(100)\n",
        "s.add(100)    # will not store duplicate value\n",
        "s.add(110)\n",
        "s.add(11)     # tell stack is overflow\n",
        "s.display()\n",
        "\n",
        "print()\n",
        "print(\"------------------------------------------------------------\")\n",
        "s.delete()    # delete  element from top of stack\n",
        "s.delete()\n",
        "s.delete()\n",
        "print(\"After deleting elements from stack:\")\n",
        "s.display()\n",
        "\n",
        "print()\n",
        "print(\"-----------------------------------------------------------\")\n",
        "print(\"top of stack:\" , end=' ')\n",
        "s.peek()      # returns top of stack"
      ],
      "execution_count": null,
      "outputs": [
        {
          "output_type": "stream",
          "text": [
            "Stack is empty\n",
            "------------------------------------------------------------\n",
            "Stack underflow\n",
            "------------------------------------------------------------\n",
            "Value added successfully!\n",
            "Value added successfully!\n",
            "Value added successfully!\n",
            "Value added successfully!\n",
            "Value added successfully!\n",
            "Value added successfully!\n",
            "Value added successfully!\n",
            "Value added successfully!\n",
            "Value added successfully!\n",
            "Value added successfully!\n",
            "Value already present in stack\n",
            "Value added successfully!\n",
            "Stack overflow\n",
            "Elements are: 10 20 30 40 50 60 70 80 90 100 110 \n",
            "------------------------------------------------------------\n",
            "After deleting elements from stack:\n",
            "Elements are: 10 20 30 40 50 60 70 80 \n",
            "-----------------------------------------------------------\n",
            "top of stack: "
          ],
          "name": "stdout"
        },
        {
          "output_type": "execute_result",
          "data": {
            "text/plain": [
              "80"
            ]
          },
          "metadata": {
            "tags": []
          },
          "execution_count": 26
        }
      ]
    }
  ]
}